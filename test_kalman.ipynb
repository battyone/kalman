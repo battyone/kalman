{
 "cells": [
  {
   "cell_type": "code",
   "execution_count": null,
   "metadata": {
    "collapsed": true
   },
   "outputs": [],
   "source": [
    "import numpy as np\n",
    "from kalman import Kalman, LDS"
   ]
  },
  {
   "cell_type": "code",
   "execution_count": null,
   "metadata": {},
   "outputs": [],
   "source": [
    "def run_lds_kf(lds, kf, steps, u=0):\n",
    "    \"\"\"Run an experiment with a linear dynamical system and a Kalman filter\"\"\"\n",
    "    lds_x = np.zeros((steps, lds.state_dimensions))\n",
    "    lds_y = np.zeros((steps, lds.output_dimensions))\n",
    "    kf_xhat = np.zeros((steps, lds.state_dimensions))\n",
    "    kf_p = np.zeros((steps, lds.state_dimensions, lds.state_dimensions))\n",
    "    kf_k = np.zeros((steps, lds.state_dimensions, lds.output_dimensions))\n",
    "    for step in range(steps):\n",
    "        lds_x[step, :], lds_y[step, :] = lds.step(u)\n",
    "        kf_xhat[step, :], kf_p[step, :], kf_k[step, :] = kf.step(lds_y[step, :])\n",
    "    lds_data = (lds_x, lds_y)\n",
    "    kf_data = (kf_xhat, kf_p, kf_k)\n",
    "    return lds_data, kf_data\n",
    "\n",
    "def plot_lds_kf_1d(lds_data, kf_data):\n",
    "    fig, axs = plt.subplots(nrows=3, figsize=(8, 6))\n",
    "    x, y = lds_data\n",
    "    xhat, p, k = kf_data\n",
    "    axs[0].plot(x)\n",
    "    axs[0].plot(y)\n",
    "    axs[0].plot(xhat)\n",
    "    axs[1].plot(p)\n",
    "    axs[1].plot(k)\n",
    "    "
   ]
  },
  {
   "cell_type": "code",
   "execution_count": null,
   "metadata": {
    "collapsed": true
   },
   "outputs": [],
   "source": [
    "# 1d constant dynamics, no noise\n",
    "def test_1d():\n",
    "    \"\"\"Test that the Kalman filter works on a 1D constant system with no noise\"\"\"\n",
    "    A = np.array([[1]])\n",
    "    B = np.array([[0]])\n",
    "    C = np.array([[1]])\n",
    "    D = np.array([[0]])\n",
    "    \n",
    "    x0 = -0.37727\n",
    "    Q = np.array([[0]])\n",
    "    R = np.array([[0.01]])\n",
    "    \n",
    "    lds = LDS(A, B, C, D, Q, R, x0)\n",
    "    kf = Kalman(A, B, C, Q, R, xhat0, Phat0)\n",
    "    \n",
    "    N_STEPS = 50\n",
    "    \n",
    "test_1d()"
   ]
  },
  {
   "cell_type": "code",
   "execution_count": null,
   "metadata": {
    "collapsed": true
   },
   "outputs": [],
   "source": [
    "# 1d constant dynamics, measure noise\n",
    "# 1d constant dynamics, process noise\n",
    "# 1d constant dynamics, process + measure noise\n",
    "\n",
    "# 1d constant dyanmics, process + measure noise"
   ]
  }
 ],
 "metadata": {
  "hide_input": false,
  "kernelspec": {
   "display_name": "Python 3",
   "language": "python",
   "name": "python3"
  },
  "language_info": {
   "codemirror_mode": {
    "name": "ipython",
    "version": 3
   },
   "file_extension": ".py",
   "mimetype": "text/x-python",
   "name": "python",
   "nbconvert_exporter": "python",
   "pygments_lexer": "ipython3",
   "version": "3.6.4"
  },
  "toc": {
   "base_numbering": 1,
   "nav_menu": {},
   "number_sections": true,
   "sideBar": true,
   "skip_h1_title": false,
   "title_cell": "Table of Contents",
   "title_sidebar": "Contents",
   "toc_cell": false,
   "toc_position": {},
   "toc_section_display": true,
   "toc_window_display": false
  }
 },
 "nbformat": 4,
 "nbformat_minor": 2
}
